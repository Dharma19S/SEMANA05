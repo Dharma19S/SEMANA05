{
 "cells": [
  {
   "cell_type": "markdown",
   "id": "57434b0f",
   "metadata": {},
   "source": [
    "#Semana 05-02"
   ]
  },
  {
   "cell_type": "raw",
   "id": "d94727f3",
   "metadata": {},
   "source": [
    "TEMAS\n",
    "\n",
    "1.Colecciones\n",
    "2.Estructuras decisivas y repetitivas\n",
    "3.Clases y objetos\n",
    "4.Funciones"
   ]
  },
  {
   "cell_type": "code",
   "execution_count": 1,
   "id": "df304f9a",
   "metadata": {},
   "outputs": [],
   "source": [
    "#2.1 Estructuras Decisivas (if, for,else) "
   ]
  },
  {
   "cell_type": "code",
   "execution_count": 2,
   "id": "e1717fd9",
   "metadata": {},
   "outputs": [],
   "source": [
    "#2.1 Estructuras Decisivas (if, elif,else) "
   ]
  },
  {
   "cell_type": "code",
   "execution_count": null,
   "id": "dfeb458c",
   "metadata": {},
   "outputs": [],
   "source": [
    "#if\n",
    "#Problema: Dado el precio de 3 productos ingresados por el teclado,\n",
    "#aplicar un descuento del 10% si la venta es mayor o igual a 100."
   ]
  },
  {
   "cell_type": "code",
   "execution_count": 12,
   "id": "c9320cfc",
   "metadata": {},
   "outputs": [
    {
     "name": "stdout",
     "output_type": "stream",
     "text": [
      "Producto 1: 10000\n",
      "Producto 2: 10000\n",
      "Producto 3: 10000\n",
      "El total a pagar es: 27000.0\n"
     ]
    }
   ],
   "source": [
    "#Solucion\n",
    "P1 = float(input(\"Producto 1: \"))\n",
    "P2 = float(input(\"Producto 2: \"))\n",
    "P3 = float(input(\"Producto 3: \"))\n",
    "total = P1 + P2 + P3\n",
    "if total>=1000:\n",
    "    total *=0.9\n",
    "print(f\"El total a pagar es: {total}\")"
   ]
  },
  {
   "cell_type": "code",
   "execution_count": null,
   "id": "b70855c3",
   "metadata": {},
   "outputs": [],
   "source": [
    "# Problema 01 (Recordando)\n",
    "# Dado una lista de AMES, ARTEAGA, BARRIOS, BONIFACIO, BRAVO, CABALLERO, CAÑAZACA, FERNANDEZ, FLORES, GARCIA, HERRERA, HUERTA, HUERTAS, JIMENEZ, MAMANI, MANCILLA, PABLO, PAYE, PEÑA, PIZANGO, RAMOS, SANCHEZ, SEVILLANO, TINOCO, TORRES, VALDIVIESO, VELEZ, VILLANUEVA, ZUÑIGA ]\n",
    "# Diseñar un código que muestre si el apellido de un estudiante (Ingresado por teclado) forma parte de la lista"
   ]
  },
  {
   "cell_type": "code",
   "execution_count": 6,
   "id": "73788a78",
   "metadata": {},
   "outputs": [
    {
     "name": "stdout",
     "output_type": "stream",
     "text": [
      "Escribe el nombre del alumno \"BONIFACIO\"\n",
      "El alumno ingresado no esta dentro de la lista\n"
     ]
    }
   ],
   "source": [
    "#Solucion:\n",
    "alumnos = [\"AMES\", \"ARTEAGA\" , \"BARRIOS\" , \"BONIFACIO\", \"BRAVO\", \"CABALLERO\" , \"CAÑAZACA\", \"FERNANDEZ\" , \"FLORES\" , \"GARCIA\" , \"HERRERA\" , \"HUERTA\" , \"HUERTAS\", \"JIMENEZ\" , \"MAMANI\" , \"MANCILLA\", \"PABLO\" , \"PAYE\" , \"PEÑA\" , \"PIZANGO\", \"RAMOS\", \"SANCHEZ\",\"SEVILLANO\", \"TINOCO\", \"TORRES\" , \"VALDIVIESO\", \"VELEZ\" , \"VILLANUEVA\" , \"ZUÑIGA\"]\n",
    "nombre = input(\"Escribe el nombre del alumno\")\n",
    "\n",
    "if nombre in alumnos:\n",
    "  print(\"El alumno ingresado sí forma parte de la lista\")\n",
    "else:\n",
    "  print(\"El alumno ingresado no esta dentro de la lista\")"
   ]
  },
  {
   "cell_type": "code",
   "execution_count": null,
   "id": "646f5777",
   "metadata": {},
   "outputs": [],
   "source": [
    "#tIEMPO ASIGNAD0"
   ]
  },
  {
   "cell_type": "code",
   "execution_count": 11,
   "id": "fbdcaf57",
   "metadata": {},
   "outputs": [
    {
     "name": "stdout",
     "output_type": "stream",
     "text": [
      "Importe de ventas realizadas: 10000\n",
      "Categoría D\n"
     ]
    }
   ],
   "source": [
    "#Solución\n",
    "ventas = float(input(\"Importe de ventas realizadas: \"))\n",
    "if ventas < 0:\n",
    "    print(\"Datos erroneos\")\n",
    "else:\n",
    "    if ventas<=1000:\n",
    "        print(\"Categoría A\")\n",
    "    else:\n",
    "            if ventas <= 2000:\n",
    "                print(\"Categoría B\")\n",
    "            else:\n",
    "                    if ventas <= 5000:\n",
    "                        print(\"Categoría C\")\n",
    "                    else:\n",
    "                        print(\"Categoría D\")"
   ]
  },
  {
   "cell_type": "code",
   "execution_count": 15,
   "id": "85cc330d",
   "metadata": {},
   "outputs": [
    {
     "name": "stdout",
     "output_type": "stream",
     "text": [
      "Importe de ventas realizadas: 78\n",
      "categoria A\n"
     ]
    }
   ],
   "source": [
    "#Solución\n",
    "ventas = float(input(\"Importe de ventas realizadas: \"))\n",
    "if ventas < 0:\n",
    "  print(\"Datos erroneos\")\n",
    "else:\n",
    "  if ventas <= 1000:\n",
    "    print(\"categoria A\")\n",
    "  elif ventas <= 2000:\n",
    "    print(\"categoria B\")\n",
    "  elif ventas <= 5000:\n",
    "    print(\"categoria C\")\n",
    "  else:\n",
    "    print(\"categoria D\")"
   ]
  },
  {
   "cell_type": "code",
   "execution_count": 16,
   "id": "273a49e6",
   "metadata": {},
   "outputs": [],
   "source": [
    "#2.2 eSTRUCTURAS REPETITIVAS\n",
    "#FOR"
   ]
  },
  {
   "cell_type": "code",
   "execution_count": 17,
   "id": "4a28155c",
   "metadata": {},
   "outputs": [],
   "source": [
    "#Problema 01:\n",
    "#Mostrar los elementos de una lista utilizando for"
   ]
  },
  {
   "cell_type": "code",
   "execution_count": 18,
   "id": "c7ff789a",
   "metadata": {},
   "outputs": [
    {
     "name": "stdout",
     "output_type": "stream",
     "text": [
      "Barrios\n",
      "Sevillano\n",
      "Zuñiga\n",
      "Paye\n"
     ]
    }
   ],
   "source": [
    "#Solución\n",
    "aula = ['Barrios','Sevillano','Zuñiga','Paye']\n",
    "\n",
    "#Por cada alumno que está en la lista, imprimir alumno\n",
    "for alumno in aula:\n",
    "    print(alumno)"
   ]
  },
  {
   "cell_type": "code",
   "execution_count": 19,
   "id": "f8541d33",
   "metadata": {},
   "outputs": [],
   "source": [
    "#Problema 02:\n",
    "#Mostrar cada caracter de la cadena, utilizando la estructura for"
   ]
  },
  {
   "cell_type": "code",
   "execution_count": 20,
   "id": "e3a4af5f",
   "metadata": {},
   "outputs": [
    {
     "name": "stdout",
     "output_type": "stream",
     "text": [
      "Ingrese cadena: Aula Virtual\n",
      "A\n",
      "u\n",
      "l\n",
      "a\n",
      " \n",
      "V\n",
      "i\n",
      "r\n",
      "t\n",
      "u\n",
      "a\n",
      "l\n"
     ]
    }
   ],
   "source": [
    "#Solución:\n",
    "cadena = input(\"Ingrese cadena: \")\n",
    "for caracter in cadena:\n",
    "    print(caracter)"
   ]
  },
  {
   "cell_type": "code",
   "execution_count": 21,
   "id": "5952d9bb",
   "metadata": {},
   "outputs": [
    {
     "data": {
      "text/plain": [
       "range(0, 5)"
      ]
     },
     "execution_count": 21,
     "metadata": {},
     "output_type": "execute_result"
    }
   ],
   "source": [
    "#Para generar rangos de números utilizamos range()\n",
    "range(5)\n",
    "#[0,5>"
   ]
  },
  {
   "cell_type": "code",
   "execution_count": 22,
   "id": "286684db",
   "metadata": {},
   "outputs": [
    {
     "name": "stdout",
     "output_type": "stream",
     "text": [
      "0\n",
      "1\n",
      "2\n",
      "3\n",
      "4\n",
      "5\n",
      "6\n",
      "7\n",
      "8\n",
      "9\n",
      "10\n"
     ]
    }
   ],
   "source": [
    "#Problema 02\n",
    "#Imprimir los números de 0 a 10, utilizamos for\n",
    "for numero in range(11):\n",
    "    print (numero)"
   ]
  },
  {
   "cell_type": "code",
   "execution_count": 23,
   "id": "790010f3",
   "metadata": {},
   "outputs": [
    {
     "name": "stdout",
     "output_type": "stream",
     "text": [
      "5\n",
      "6\n",
      "7\n",
      "8\n",
      "9\n",
      "10\n"
     ]
    }
   ],
   "source": [
    "#Problema 03\n",
    "#Imprimir los números de 0 a 10, utilizamos for\n",
    "for numero in range(5,11):\n",
    "    print (numero)"
   ]
  },
  {
   "cell_type": "code",
   "execution_count": 24,
   "id": "4c8fd877",
   "metadata": {},
   "outputs": [
    {
     "name": "stdout",
     "output_type": "stream",
     "text": [
      "10\n",
      "12\n",
      "14\n",
      "16\n",
      "18\n",
      "20\n"
     ]
    }
   ],
   "source": [
    "#Problema 04\n",
    "#Imprimir los números de 10 a 20, utilizamos for\n",
    "for numero in range(10, 22, 2):\n",
    "    print (numero)"
   ]
  },
  {
   "cell_type": "code",
   "execution_count": 25,
   "id": "d3910f62",
   "metadata": {},
   "outputs": [],
   "source": [
    "#while\n",
    "#Permite ejecutar un conjunto de acciones mientras se cumpla una condicion"
   ]
  },
  {
   "cell_type": "code",
   "execution_count": 27,
   "id": "9358b63a",
   "metadata": {},
   "outputs": [
    {
     "name": "stdout",
     "output_type": "stream",
     "text": [
      "1\n",
      "2\n",
      "3\n",
      "4\n",
      "5\n",
      "6\n",
      "7\n",
      "8\n",
      "9\n",
      "10\n"
     ]
    }
   ],
   "source": [
    "#Ejemplo:\n",
    "numero = 2\n",
    "fin = 10\n",
    "while numero <= fin:\n",
    "    print(numero)\n",
    "    numero+=1"
   ]
  },
  {
   "cell_type": "code",
   "execution_count": null,
   "id": "b84a872e",
   "metadata": {},
   "outputs": [],
   "source": []
  }
 ],
 "metadata": {
  "kernelspec": {
   "display_name": "Python 3 (ipykernel)",
   "language": "python",
   "name": "python3"
  },
  "language_info": {
   "codemirror_mode": {
    "name": "ipython",
    "version": 3
   },
   "file_extension": ".py",
   "mimetype": "text/x-python",
   "name": "python",
   "nbconvert_exporter": "python",
   "pygments_lexer": "ipython3",
   "version": "3.9.12"
  }
 },
 "nbformat": 4,
 "nbformat_minor": 5
}
