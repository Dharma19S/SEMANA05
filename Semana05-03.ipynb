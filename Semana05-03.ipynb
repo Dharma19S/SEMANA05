{
 "cells": [
  {
   "cell_type": "markdown",
   "id": "659dd405",
   "metadata": {},
   "source": [
    "#SEMANA 05-03"
   ]
  },
  {
   "cell_type": "raw",
   "id": "031da3f0",
   "metadata": {},
   "source": [
    "TEMAS\n",
    "\n",
    "1.Colecciones\n",
    "2.Estructuras decisivas y repetitivas\n",
    "3.Funciones\n",
    "4.Clases y objetos"
   ]
  },
  {
   "cell_type": "raw",
   "id": "08c12d16",
   "metadata": {},
   "source": [
    "3.Funciones"
   ]
  },
  {
   "cell_type": "code",
   "execution_count": 1,
   "id": "2e55512a",
   "metadata": {},
   "outputs": [],
   "source": [
    "#También conocidos como métodos"
   ]
  },
  {
   "cell_type": "code",
   "execution_count": 2,
   "id": "908731cd",
   "metadata": {},
   "outputs": [],
   "source": [
    "#sss..."
   ]
  },
  {
   "cell_type": "code",
   "execution_count": 3,
   "id": "ad7a7f7f",
   "metadata": {},
   "outputs": [],
   "source": [
    "#3.1 Metodos vacíos\n",
    "# Explicación: No recibe valores (Parámetros)"
   ]
  },
  {
   "cell_type": "code",
   "execution_count": 9,
   "id": "f2027f5d",
   "metadata": {},
   "outputs": [],
   "source": [
    "def saludo():\n",
    "    print(\"Bienvenidos al crso de LP3\")\n",
    "    print(\"**** Python ****\")"
   ]
  },
  {
   "cell_type": "code",
   "execution_count": 10,
   "id": "2e49a5bf",
   "metadata": {},
   "outputs": [
    {
     "name": "stdout",
     "output_type": "stream",
     "text": [
      "Bienvenidos al crso de LP3\n",
      "**** Python ****\n"
     ]
    }
   ],
   "source": [
    "saludo()"
   ]
  },
  {
   "cell_type": "code",
   "execution_count": 8,
   "id": "c38264bc",
   "metadata": {},
   "outputs": [],
   "source": [
    "#3.2 Metodos que reciben valores"
   ]
  },
  {
   "cell_type": "code",
   "execution_count": 14,
   "id": "25354604",
   "metadata": {},
   "outputs": [],
   "source": [
    "def factorial(numero):\n",
    "    fac = 1\n",
    "    for i in range(1,numero+1):\n",
    "        fac*=i\n",
    "        #fac = fac*i\n",
    "    print(f\"El factorial es: {fac}\")"
   ]
  },
  {
   "cell_type": "code",
   "execution_count": 17,
   "id": "7d48c132",
   "metadata": {},
   "outputs": [
    {
     "name": "stdout",
     "output_type": "stream",
     "text": [
      "Ingrese Número: 5\n",
      "El factorial es: 120\n"
     ]
    }
   ],
   "source": [
    "numero = int(input(\"Ingrese Número: \"))\n",
    "factorial(numero)"
   ]
  },
  {
   "cell_type": "code",
   "execution_count": 19,
   "id": "30d77c3f",
   "metadata": {},
   "outputs": [],
   "source": [
    "#3.3 Metodos que devuelven valores\n",
    "def saludo2():\n",
    "    mensaje = \"Bienvenidos a LP3\"\n",
    "    return mensaje"
   ]
  },
  {
   "cell_type": "code",
   "execution_count": 20,
   "id": "fb825a2f",
   "metadata": {},
   "outputs": [
    {
     "name": "stdout",
     "output_type": "stream",
     "text": [
      "Bienvenidos a LP3\n"
     ]
    }
   ],
   "source": [
    "print(saludo2())"
   ]
  },
  {
   "cell_type": "code",
   "execution_count": 21,
   "id": "a69e5de0",
   "metadata": {},
   "outputs": [],
   "source": [
    "#3.4 Metodos que reciben y devuelven valores"
   ]
  },
  {
   "cell_type": "code",
   "execution_count": 22,
   "id": "e9cb0062",
   "metadata": {},
   "outputs": [],
   "source": [
    "def factorial2(numero):\n",
    "    fac = 1\n",
    "    for i in range(1,numero+1):\n",
    "        fac*=i\n",
    "        #fac = fac*i\n",
    "        return fac"
   ]
  },
  {
   "cell_type": "code",
   "execution_count": 24,
   "id": "9b3131ac",
   "metadata": {},
   "outputs": [
    {
     "name": "stdout",
     "output_type": "stream",
     "text": [
      "Numero: 8\n",
      "El factorial de 8 es 1\n"
     ]
    }
   ],
   "source": [
    "numero = int(input(\"Numero: \"))\n",
    "print(f\"El factorial de {numero} es {factorial2(numero)}\")"
   ]
  },
  {
   "cell_type": "code",
   "execution_count": 25,
   "id": "09372c5d",
   "metadata": {},
   "outputs": [],
   "source": [
    "#Otro ejemplo \n",
    "#Calcular el IGV\n",
    "def obtenerigv(importe):\n",
    "    return importe*0.19"
   ]
  },
  {
   "cell_type": "code",
   "execution_count": 26,
   "id": "65d55a33",
   "metadata": {},
   "outputs": [
    {
     "data": {
      "text/plain": [
       "28.5"
      ]
     },
     "execution_count": 26,
     "metadata": {},
     "output_type": "execute_result"
    }
   ],
   "source": [
    "obtenerigv(150)"
   ]
  },
  {
   "cell_type": "code",
   "execution_count": null,
   "id": "722ac51a",
   "metadata": {},
   "outputs": [],
   "source": []
  }
 ],
 "metadata": {
  "kernelspec": {
   "display_name": "Python 3 (ipykernel)",
   "language": "python",
   "name": "python3"
  },
  "language_info": {
   "codemirror_mode": {
    "name": "ipython",
    "version": 3
   },
   "file_extension": ".py",
   "mimetype": "text/x-python",
   "name": "python",
   "nbconvert_exporter": "python",
   "pygments_lexer": "ipython3",
   "version": "3.9.12"
  }
 },
 "nbformat": 4,
 "nbformat_minor": 5
}
