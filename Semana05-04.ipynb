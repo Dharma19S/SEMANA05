{
 "cells": [
  {
   "cell_type": "markdown",
   "id": "2dd000bd",
   "metadata": {},
   "source": [
    "# SEMANA 05-04"
   ]
  },
  {
   "cell_type": "markdown",
   "id": "86531057",
   "metadata": {},
   "source": [
    "TEMAS\n",
    "\n",
    "1.Colecciones\n",
    "2.Estructuras decisivas y repetitivas\n",
    "3.Funciones\n",
    "4.Clases y objetos\n",
    "3.Funciones"
   ]
  },
  {
   "cell_type": "raw",
   "id": "ed4ed177",
   "metadata": {},
   "source": [
    "4.Clases y objetos"
   ]
  },
  {
   "cell_type": "code",
   "execution_count": 1,
   "id": "7a10da2d",
   "metadata": {},
   "outputs": [],
   "source": [
    "#Problema 1\n",
    "#Crear  la siguiente clase:\n",
    "# -CLase: Persona\n",
    "# - Atributos:nombre, apellido, fecha_nacimiento, dni"
   ]
  },
  {
   "cell_type": "code",
   "execution_count": 2,
   "id": "581bad73",
   "metadata": {},
   "outputs": [],
   "source": [
    "class persona:\n",
    "    nombre= \"\"\n",
    "    apellidos = \"\"\n",
    "    dni = \"\"\n",
    "    talla = \"\""
   ]
  },
  {
   "cell_type": "code",
   "execution_count": 3,
   "id": "260fd214",
   "metadata": {},
   "outputs": [],
   "source": [
    "#creacion del objeto personal \n",
    "persona1 = persona()"
   ]
  },
  {
   "cell_type": "code",
   "execution_count": 4,
   "id": "5be9c439",
   "metadata": {},
   "outputs": [],
   "source": [
    "#Asignamos valores al objeto\n",
    "persona1.nombre = \"Dharma\"\n",
    "persona1.apellidos = \"Bonifacio Toledo\"\n",
    "persona1.dni = \"12345678\"\n",
    "persona1.talla = 1.64\n"
   ]
  },
  {
   "cell_type": "code",
   "execution_count": 5,
   "id": "4f97f012",
   "metadata": {},
   "outputs": [
    {
     "name": "stdout",
     "output_type": "stream",
     "text": [
      "persona1\n",
      "Nombre: Dharma\n",
      "Apellidos: Bonifacio Toledo\n",
      "DNI: 12345678\n",
      "Talla: 1.64\n"
     ]
    }
   ],
   "source": [
    "#Para mostrar valores el objeto\n",
    "print(\"persona1\")\n",
    "print(f\"Nombre: {persona1.nombre}\")\n",
    "print(f\"Apellidos: {persona1.apellidos}\")\n",
    "print(f\"DNI: {persona1.dni}\")\n",
    "print(f\"Talla: {persona1.talla}\")"
   ]
  },
  {
   "cell_type": "code",
   "execution_count": 6,
   "id": "00552a11",
   "metadata": {},
   "outputs": [],
   "source": [
    "#Para utilizar constructores utilizamos: _init_\n",
    "#¿Qué es un constructor?\n",
    "# - Es un método\n",
    "# - Sirve para inicializar valores a una clase"
   ]
  },
  {
   "cell_type": "code",
   "execution_count": 7,
   "id": "dd97529f",
   "metadata": {},
   "outputs": [],
   "source": [
    "#Problema02"
   ]
  },
  {
   "cell_type": "code",
   "execution_count": 8,
   "id": "4e693f51",
   "metadata": {},
   "outputs": [],
   "source": [
    "#Crear la siguiente clase y utilizart constructores:\n",
    "# -Clase: Curso\n",
    "# - Atributos: Código, Nombre , horas, crédidos,"
   ]
  },
  {
   "cell_type": "code",
   "execution_count": 12,
   "id": "ed4c8556",
   "metadata": {},
   "outputs": [],
   "source": [
    "#Solución:\n",
    "class curso:\n",
    "    def __init__(self, codigo, nombre, horas, créditos):\n",
    "        self.codigo = codigo\n",
    "        self.nombre = nombre\n",
    "        self.horas = horas\n",
    "        self.créditos = créditos\n",
    "        \n",
    "    def mostrar_datos_curso(self):\n",
    "        print(f\"Curso: {self.nombre}\")\n",
    "        print(f\"Código: {self.codigo}\")\n",
    "        print(f\"Horas: {self.horas}\")\n",
    "        print(f\"Créditos: {self.créditos}\")"
   ]
  },
  {
   "cell_type": "code",
   "execution_count": 13,
   "id": "25361722",
   "metadata": {},
   "outputs": [],
   "source": [
    "#Creamos el objeto curso1 y le mandamos parámetros\n",
    "curso1 = curso(\"C0501\",\"LP3\",6,3)"
   ]
  },
  {
   "cell_type": "code",
   "execution_count": 14,
   "id": "8935c1e5",
   "metadata": {},
   "outputs": [
    {
     "name": "stdout",
     "output_type": "stream",
     "text": [
      "Curso: LP3\n",
      "Código: C0501\n",
      "Horas: 6\n",
      "Créditos: 3\n"
     ]
    }
   ],
   "source": [
    "#Mostrar los datos completos del curso, ejecutando el método mostrar_datos_cursos\n",
    "curso1.mostrar_datos_curso();"
   ]
  },
  {
   "cell_type": "code",
   "execution_count": null,
   "id": "b4d66e69",
   "metadata": {},
   "outputs": [],
   "source": []
  }
 ],
 "metadata": {
  "kernelspec": {
   "display_name": "Python 3 (ipykernel)",
   "language": "python",
   "name": "python3"
  },
  "language_info": {
   "codemirror_mode": {
    "name": "ipython",
    "version": 3
   },
   "file_extension": ".py",
   "mimetype": "text/x-python",
   "name": "python",
   "nbconvert_exporter": "python",
   "pygments_lexer": "ipython3",
   "version": "3.9.12"
  }
 },
 "nbformat": 4,
 "nbformat_minor": 5
}
