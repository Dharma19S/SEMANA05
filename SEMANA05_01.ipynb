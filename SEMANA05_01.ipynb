{
 "cells": [
  {
   "cell_type": "markdown",
   "id": "5922a53b",
   "metadata": {},
   "source": [
    "#semana 05"
   ]
  },
  {
   "cell_type": "raw",
   "id": "797ab341",
   "metadata": {},
   "source": [
    "1.Colecciones\n",
    "2.Estructuras decisivas y repetitivas\n",
    "3.Clases y objetos\n",
    "4.Funciones"
   ]
  },
  {
   "cell_type": "raw",
   "id": "09cc8a38",
   "metadata": {},
   "source": [
    "1. Colecciones de datos"
   ]
  },
  {
   "cell_type": "code",
   "execution_count": 5,
   "id": "b3515e71",
   "metadata": {},
   "outputs": [
    {
     "data": {
      "text/plain": [
       "['Huertas', 'Jimenez', 'Rodriguez', 'Caballero']"
      ]
     },
     "execution_count": 5,
     "metadata": {},
     "output_type": "execute_result"
    }
   ],
   "source": [
    "#1.1 Listas\n",
    "#Es una coleecion de elementos que puede ser ordenada, modificada, etc...\n",
    "#Se identifica por los corchetes\n",
    "#Ejemplo\n",
    "\n",
    "aula = [\"Huertas\",\"Jimenez\",\"Rodriguez\",\"Caballero\"]\n",
    "aula"
   ]
  },
  {
   "cell_type": "code",
   "execution_count": 6,
   "id": "0c3abb0c",
   "metadata": {},
   "outputs": [
    {
     "name": "stdout",
     "output_type": "stream",
     "text": [
      "Huertas\n"
     ]
    }
   ],
   "source": [
    "#podemos extraer cada elemneto por su posicion\n",
    "print(aula[0])"
   ]
  },
  {
   "cell_type": "code",
   "execution_count": 7,
   "id": "ae2637d0",
   "metadata": {},
   "outputs": [
    {
     "data": {
      "text/plain": [
       "['Huertas', 'Jimenez', 'Rodriguez', 'Caballero', 'Mamani', 'Fernandez']"
      ]
     },
     "execution_count": 7,
     "metadata": {},
     "output_type": "execute_result"
    }
   ],
   "source": [
    "#para agregar elementos a la lista\n",
    "aula.append(\"Mamani\")\n",
    "aula.append(\"Fernandez\")\n",
    "aula"
   ]
  },
  {
   "cell_type": "code",
   "execution_count": 8,
   "id": "f6c90e87",
   "metadata": {},
   "outputs": [
    {
     "data": {
      "text/plain": [
       "['Jimenez', 'Rodriguez', 'Caballero', 'Mamani', 'Fernandez']"
      ]
     },
     "execution_count": 8,
     "metadata": {},
     "output_type": "execute_result"
    }
   ],
   "source": [
    "aula.remove(\"Huertas\")\n",
    "aula"
   ]
  },
  {
   "cell_type": "code",
   "execution_count": 9,
   "id": "64bdf7f8",
   "metadata": {},
   "outputs": [
    {
     "data": {
      "text/plain": [
       "['Jimenez', 'Rodriguez', 'Caballero', 'Fernandez']"
      ]
     },
     "execution_count": 9,
     "metadata": {},
     "output_type": "execute_result"
    }
   ],
   "source": [
    "aula.remove(\"Mamani\")\n",
    "aula"
   ]
  },
  {
   "cell_type": "code",
   "execution_count": 10,
   "id": "6ae5a113",
   "metadata": {},
   "outputs": [
    {
     "name": "stdout",
     "output_type": "stream",
     "text": [
      "Jimenez\n",
      "Rodriguez\n",
      "Caballero\n",
      "Fernandez\n"
     ]
    }
   ],
   "source": [
    "#para recorrer podemos utilizar una estructura repetitiva\n",
    "for alumno in aula:\n",
    "  print(alumno)"
   ]
  },
  {
   "cell_type": "code",
   "execution_count": 11,
   "id": "5cd11585",
   "metadata": {},
   "outputs": [
    {
     "data": {
      "text/plain": [
       "['Fernandez', 'Caballero', 'Rodriguez', 'Jimenez']"
      ]
     },
     "execution_count": 11,
     "metadata": {},
     "output_type": "execute_result"
    }
   ],
   "source": [
    "#para invertir la lista utilizamos reverse()\n",
    "aula.reverse()\n",
    "aula"
   ]
  },
  {
   "cell_type": "code",
   "execution_count": 12,
   "id": "73a72b1a",
   "metadata": {},
   "outputs": [
    {
     "data": {
      "text/plain": [
       "['Caballero', 'Fernandez', 'Jimenez', 'Rodriguez']"
      ]
     },
     "execution_count": 12,
     "metadata": {},
     "output_type": "execute_result"
    }
   ],
   "source": [
    "#para ordenar listas utilizamos sort()\n",
    "aula.sort()\n",
    "aula"
   ]
  },
  {
   "cell_type": "code",
   "execution_count": 13,
   "id": "97f48090",
   "metadata": {},
   "outputs": [
    {
     "data": {
      "text/plain": [
       "('huertas', 'bravo', 'bonifacio', 'caballero')"
      ]
     },
     "execution_count": 13,
     "metadata": {},
     "output_type": "execute_result"
    }
   ],
   "source": [
    "##TUPLAS\n",
    "tupla_aula = (\"huertas\",\"bravo\",\"bonifacio\",\"caballero\")\n",
    "tupla_aula"
   ]
  },
  {
   "cell_type": "code",
   "execution_count": 14,
   "id": "43dcb54c",
   "metadata": {},
   "outputs": [
    {
     "data": {
      "text/plain": [
       "{'bonifacio', 'bravo', 'caballero', 'huertas'}"
      ]
     },
     "execution_count": 14,
     "metadata": {},
     "output_type": "execute_result"
    }
   ],
   "source": [
    "#CONJUNTOS\n",
    "conjunto_aula = {\"huertas\",\"bravo\",\"bonifacio\",\"caballero\"}\n",
    "conjunto_aula"
   ]
  },
  {
   "cell_type": "code",
   "execution_count": 15,
   "id": "6c570eab",
   "metadata": {},
   "outputs": [
    {
     "name": "stdout",
     "output_type": "stream",
     "text": [
      "huertas\n",
      "caballero\n",
      "bonifacio\n",
      "bravo\n"
     ]
    }
   ],
   "source": [
    "for alumno in conjunto_aula:\n",
    "  print(alumno)"
   ]
  },
  {
   "cell_type": "code",
   "execution_count": 16,
   "id": "61808396",
   "metadata": {},
   "outputs": [
    {
     "ename": "TypeError",
     "evalue": "'set' object is not subscriptable",
     "output_type": "error",
     "traceback": [
      "\u001b[1;31m---------------------------------------------------------------------------\u001b[0m",
      "\u001b[1;31mTypeError\u001b[0m                                 Traceback (most recent call last)",
      "Input \u001b[1;32mIn [16]\u001b[0m, in \u001b[0;36m<cell line: 2>\u001b[1;34m()\u001b[0m\n\u001b[0;32m      1\u001b[0m \u001b[38;5;66;03m#observacion no s epuede acceder por posicion pues no considera indexacion\u001b[39;00m\n\u001b[1;32m----> 2\u001b[0m \u001b[43mconjunto_aula\u001b[49m\u001b[43m[\u001b[49m\u001b[38;5;241;43m2\u001b[39;49m\u001b[43m]\u001b[49m\n",
      "\u001b[1;31mTypeError\u001b[0m: 'set' object is not subscriptable"
     ]
    }
   ],
   "source": [
    "#observacion no s epuede acceder por posicion pues no considera indexacion\n",
    "conjunto_aula[2]"
   ]
  },
  {
   "cell_type": "code",
   "execution_count": 17,
   "id": "4ab2d3c2",
   "metadata": {},
   "outputs": [
    {
     "data": {
      "text/plain": [
       "4"
      ]
     },
     "execution_count": 17,
     "metadata": {},
     "output_type": "execute_result"
    }
   ],
   "source": [
    "#para saber la cantidad de elementos len()\n",
    "len(conjunto_aula)"
   ]
  },
  {
   "cell_type": "code",
   "execution_count": 18,
   "id": "8c4383d4",
   "metadata": {},
   "outputs": [
    {
     "data": {
      "text/plain": [
       "{'Paye', 'bonifacio', 'bravo', 'caballero', 'huertas'}"
      ]
     },
     "execution_count": 18,
     "metadata": {},
     "output_type": "execute_result"
    }
   ],
   "source": [
    "#para agregar add()\n",
    "conjunto_aula.add(\"Paye\")\n",
    "conjunto_aula"
   ]
  },
  {
   "cell_type": "code",
   "execution_count": 19,
   "id": "9ae90e32",
   "metadata": {},
   "outputs": [
    {
     "data": {
      "text/plain": [
       "{2: 'huertas', '1': 'bravo', 'dos': 'bonifacio', '3': 'caballero'}"
      ]
     },
     "execution_count": 19,
     "metadata": {},
     "output_type": "execute_result"
    }
   ],
   "source": [
    "#diccionarios\n",
    "#es una collecion de elementos, que estan indexados,\n",
    "#no estan ordenados y se pueden modificar\n",
    "#son escritos entre llaves y estan formados por pares de elementos\n",
    "#INDICE:VALOR\n",
    "diccionario_aula = {2:\"huertas\", '1':\"bravo\", 'dos':\"bonifacio\" ,'3':\"caballero\"}\n",
    "diccionario_aula"
   ]
  },
  {
   "cell_type": "code",
   "execution_count": 21,
   "id": "bfb91d72",
   "metadata": {},
   "outputs": [
    {
     "data": {
      "text/plain": [
       "'bravo'"
      ]
     },
     "execution_count": 21,
     "metadata": {},
     "output_type": "execute_result"
    }
   ],
   "source": [
    "diccionario_aula['1']"
   ]
  },
  {
   "cell_type": "code",
   "execution_count": 22,
   "id": "fba57e54",
   "metadata": {},
   "outputs": [
    {
     "data": {
      "text/plain": [
       "'bonifacio'"
      ]
     },
     "execution_count": 22,
     "metadata": {},
     "output_type": "execute_result"
    }
   ],
   "source": [
    "diccionario_aula[\"dos\"]"
   ]
  },
  {
   "cell_type": "code",
   "execution_count": 23,
   "id": "633349bb",
   "metadata": {},
   "outputs": [
    {
     "data": {
      "text/plain": [
       "{2: 'huertas',\n",
       " '1': 'bravo',\n",
       " 'dos': 'bonifacio',\n",
       " '3': 'caballero',\n",
       " '20': 'velez'}"
      ]
     },
     "execution_count": 23,
     "metadata": {},
     "output_type": "execute_result"
    }
   ],
   "source": [
    "#para añadir un par de elementos al diccionario hacemos\n",
    "diccionario_aula[\"20\"] = \"velez\"\n",
    "diccionario_aula"
   ]
  },
  {
   "cell_type": "code",
   "execution_count": 24,
   "id": "cb9233c4",
   "metadata": {},
   "outputs": [
    {
     "data": {
      "text/plain": [
       "{'1': 'bravo', 'dos': 'bonifacio', '3': 'caballero', '20': 'velez'}"
      ]
     },
     "execution_count": 24,
     "metadata": {},
     "output_type": "execute_result"
    }
   ],
   "source": [
    "#para eliminar un valor se utiliza pop() o del()\n",
    "#por ejemplo, eliminar el elemento de indice dos ejemplo: para eliminar a Bernaoli\n",
    "diccionario_aula.pop(2)\n",
    "diccionario_aula"
   ]
  },
  {
   "cell_type": "code",
   "execution_count": 25,
   "id": "3d2d4907",
   "metadata": {},
   "outputs": [
    {
     "name": "stdout",
     "output_type": "stream",
     "text": [
      "Escribe el nombre del alumno 'BONIFACIO'\n",
      "El alumno ingresado no esta dentro de la lista\n"
     ]
    }
   ],
   "source": [
    "# 1.5. Ejercicio\n",
    "# Dado una lista de [AMES, ARTEAGA , BARRIOS , BONIFACIO, BRAVO, CABALLERO , CAÑAZACA, FERNANDEZ , FLORES , GARCIA , HERRERA , HUERTA , HUERTAS, JIMENEZ , MAMANI , MANCILLA, PABLO , PAYE , PEÑA , PIZANGO, RAMOS, SANCHEZ,SEVILLANO, TINOCO, TORRES , VALDIVIESO, VELEZ , VILLANUEVA , ZUÑIGA]\n",
    "# Diseñar un código que muestre si el apellido de un estudiante (Ingresado por teclado) forma parte de la lista\n",
    "# tiempo: 12 minutos\n",
    "\n",
    "# Lista de apellidos\n",
    "alumnos = [\"AMES\", \"ARTEAGA\" , \"BARRIOS\" , \"BONIFACIO\", \"BRAVO\", \"CABALLERO\" , \"CAÑAZACA\", \"FERNANDEZ\" , \"FLORES\" , \"GARCIA\" , \"HERRERA\" , \"HUERTA\" , \"HUERTAS\", \"JIMENEZ\" , \"MAMANI\" , \"MANCILLA\", \"PABLO\" , \"PAYE\" , \"PEÑA\" , \"PIZANGO\", \"RAMOS\", \"SANCHEZ\",\"SEVILLANO\", \"TINOCO\", \"TORRES\" , \"VALDIVIESO\", \"VELEZ\" , \"VILLANUEVA\" , \"ZUÑIGA\"]\n",
    "nombre = input(\"Escribe el nombre del alumno\")\n",
    "\n",
    "if nombre in alumnos:\n",
    "  print(\"El alumno ingresado sí forma parte de la lista\")\n",
    "else:\n",
    "  print(\"El alumno ingresado no esta dentro de la lista\")"
   ]
  },
  {
   "cell_type": "code",
   "execution_count": null,
   "id": "aeeedcae",
   "metadata": {},
   "outputs": [],
   "source": []
  }
 ],
 "metadata": {
  "kernelspec": {
   "display_name": "Python 3 (ipykernel)",
   "language": "python",
   "name": "python3"
  },
  "language_info": {
   "codemirror_mode": {
    "name": "ipython",
    "version": 3
   },
   "file_extension": ".py",
   "mimetype": "text/x-python",
   "name": "python",
   "nbconvert_exporter": "python",
   "pygments_lexer": "ipython3",
   "version": "3.9.12"
  }
 },
 "nbformat": 4,
 "nbformat_minor": 5
}
